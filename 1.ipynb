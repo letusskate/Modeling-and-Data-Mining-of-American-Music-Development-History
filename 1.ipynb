{
 "cells": [
  {
   "cell_type": "code",
   "execution_count": 1,
   "metadata": {},
   "outputs": [],
   "source": [
    "import pandas as pd\n",
    "import numpy as np\n"
   ]
  },
  {
   "cell_type": "code",
   "execution_count": 2,
   "metadata": {
    "pycharm": {
     "name": "#%%\n"
    }
   },
   "outputs": [],
   "source": [
    "data_by_artist=pd.read_csv(r\"data\\data_by_artist.csv\")\n",
    "data_by_year=pd.read_csv(r\"data\\data_by_year.csv\")\n",
    "full_music_data=pd.read_csv(r\"data\\full_music_data.csv\")\n",
    "influence_data=pd.read_csv(r\"data\\influence_data.csv\")"
   ]
  },
  {
   "cell_type": "code",
   "execution_count": 4,
   "metadata": {},
   "outputs": [
    {
     "data": {
      "text/plain": "   influencer_id influencer_name influencer_main_genre  \\\n0         759491   The Exploited              Pop/Rock   \n1          25462          Tricky            Electronic   \n2          66915       Bob Dylan              Pop/Rock   \n3          71209   Leonard Cohen              Pop/Rock   \n4          91438    The Gun Club              Pop/Rock   \n\n   influencer_active_start  follower_id   follower_name follower_main_genre  \\\n0                     1980           74  Special Duties            Pop/Rock   \n1                     1990          335       PJ Harvey            Pop/Rock   \n2                     1960          335       PJ Harvey            Pop/Rock   \n3                     1950          335       PJ Harvey            Pop/Rock   \n4                     1980          335       PJ Harvey            Pop/Rock   \n\n   follower_active_start  \n0                   1980  \n1                   1990  \n2                   1990  \n3                   1990  \n4                   1990  ",
      "text/html": "<div>\n<style scoped>\n    .dataframe tbody tr th:only-of-type {\n        vertical-align: middle;\n    }\n\n    .dataframe tbody tr th {\n        vertical-align: top;\n    }\n\n    .dataframe thead th {\n        text-align: right;\n    }\n</style>\n<table border=\"1\" class=\"dataframe\">\n  <thead>\n    <tr style=\"text-align: right;\">\n      <th></th>\n      <th>influencer_id</th>\n      <th>influencer_name</th>\n      <th>influencer_main_genre</th>\n      <th>influencer_active_start</th>\n      <th>follower_id</th>\n      <th>follower_name</th>\n      <th>follower_main_genre</th>\n      <th>follower_active_start</th>\n    </tr>\n  </thead>\n  <tbody>\n    <tr>\n      <th>0</th>\n      <td>759491</td>\n      <td>The Exploited</td>\n      <td>Pop/Rock</td>\n      <td>1980</td>\n      <td>74</td>\n      <td>Special Duties</td>\n      <td>Pop/Rock</td>\n      <td>1980</td>\n    </tr>\n    <tr>\n      <th>1</th>\n      <td>25462</td>\n      <td>Tricky</td>\n      <td>Electronic</td>\n      <td>1990</td>\n      <td>335</td>\n      <td>PJ Harvey</td>\n      <td>Pop/Rock</td>\n      <td>1990</td>\n    </tr>\n    <tr>\n      <th>2</th>\n      <td>66915</td>\n      <td>Bob Dylan</td>\n      <td>Pop/Rock</td>\n      <td>1960</td>\n      <td>335</td>\n      <td>PJ Harvey</td>\n      <td>Pop/Rock</td>\n      <td>1990</td>\n    </tr>\n    <tr>\n      <th>3</th>\n      <td>71209</td>\n      <td>Leonard Cohen</td>\n      <td>Pop/Rock</td>\n      <td>1950</td>\n      <td>335</td>\n      <td>PJ Harvey</td>\n      <td>Pop/Rock</td>\n      <td>1990</td>\n    </tr>\n    <tr>\n      <th>4</th>\n      <td>91438</td>\n      <td>The Gun Club</td>\n      <td>Pop/Rock</td>\n      <td>1980</td>\n      <td>335</td>\n      <td>PJ Harvey</td>\n      <td>Pop/Rock</td>\n      <td>1990</td>\n    </tr>\n  </tbody>\n</table>\n</div>"
     },
     "execution_count": 4,
     "metadata": {},
     "output_type": "execute_result"
    }
   ],
   "source": [
    "influence_data.head()"
   ]
  },
  {
   "cell_type": "code",
   "execution_count": 5,
   "metadata": {
    "pycharm": {
     "name": "#%%\n"
    },
    "scrolled": true
   },
   "outputs": [],
   "source": [
    "# get old and new id relation\n",
    "allid=set()\n",
    "for index,row in influence_data.iterrows():#gain small to large id, index means index in the begining\n",
    "    allid.add(row['influencer_id'])\n",
    "    allid.add(row['follower_id'])\n",
    "allid=list(allid)\n",
    "allid.sort()\n",
    "old2newdict={}#gain old id to new id dict\n",
    "for i in range(len(allid)):\n",
    "    old2newdict[allid[i]]=i\n",
    "sorted_influence_data=influence_data\n",
    "sorted_influence_data.insert(0,'influencer_id_new','')\n",
    "sorted_influence_data.insert(1,'follower_id_new','')\n",
    "for index,row in sorted_influence_data.iterrows():\n",
    "    sorted_influence_data.iloc[index,0]=old2newdict[row['influencer_id']]\n",
    "    sorted_influence_data.iloc[index,1]=old2newdict[row['follower_id']]\n"
   ]
  },
  {
   "cell_type": "code",
   "execution_count": 10,
   "metadata": {},
   "outputs": [
    {
     "data": {
      "text/plain": "  influencer_id_new follower_id_new  influencer_id influencer_name  \\\n0              4010               0         759491   The Exploited   \n1               219               1          25462          Tricky   \n2               559               1          66915       Bob Dylan   \n3               590               1          71209   Leonard Cohen   \n4               762               1          91438    The Gun Club   \n\n  influencer_main_genre  influencer_active_start  follower_id   follower_name  \\\n0              Pop/Rock                     1980           74  Special Duties   \n1            Electronic                     1990          335       PJ Harvey   \n2              Pop/Rock                     1960          335       PJ Harvey   \n3              Pop/Rock                     1950          335       PJ Harvey   \n4              Pop/Rock                     1980          335       PJ Harvey   \n\n  follower_main_genre  follower_active_start  \n0            Pop/Rock                   1980  \n1            Pop/Rock                   1990  \n2            Pop/Rock                   1990  \n3            Pop/Rock                   1990  \n4            Pop/Rock                   1990  ",
      "text/html": "<div>\n<style scoped>\n    .dataframe tbody tr th:only-of-type {\n        vertical-align: middle;\n    }\n\n    .dataframe tbody tr th {\n        vertical-align: top;\n    }\n\n    .dataframe thead th {\n        text-align: right;\n    }\n</style>\n<table border=\"1\" class=\"dataframe\">\n  <thead>\n    <tr style=\"text-align: right;\">\n      <th></th>\n      <th>influencer_id_new</th>\n      <th>follower_id_new</th>\n      <th>influencer_id</th>\n      <th>influencer_name</th>\n      <th>influencer_main_genre</th>\n      <th>influencer_active_start</th>\n      <th>follower_id</th>\n      <th>follower_name</th>\n      <th>follower_main_genre</th>\n      <th>follower_active_start</th>\n    </tr>\n  </thead>\n  <tbody>\n    <tr>\n      <th>0</th>\n      <td>4010</td>\n      <td>0</td>\n      <td>759491</td>\n      <td>The Exploited</td>\n      <td>Pop/Rock</td>\n      <td>1980</td>\n      <td>74</td>\n      <td>Special Duties</td>\n      <td>Pop/Rock</td>\n      <td>1980</td>\n    </tr>\n    <tr>\n      <th>1</th>\n      <td>219</td>\n      <td>1</td>\n      <td>25462</td>\n      <td>Tricky</td>\n      <td>Electronic</td>\n      <td>1990</td>\n      <td>335</td>\n      <td>PJ Harvey</td>\n      <td>Pop/Rock</td>\n      <td>1990</td>\n    </tr>\n    <tr>\n      <th>2</th>\n      <td>559</td>\n      <td>1</td>\n      <td>66915</td>\n      <td>Bob Dylan</td>\n      <td>Pop/Rock</td>\n      <td>1960</td>\n      <td>335</td>\n      <td>PJ Harvey</td>\n      <td>Pop/Rock</td>\n      <td>1990</td>\n    </tr>\n    <tr>\n      <th>3</th>\n      <td>590</td>\n      <td>1</td>\n      <td>71209</td>\n      <td>Leonard Cohen</td>\n      <td>Pop/Rock</td>\n      <td>1950</td>\n      <td>335</td>\n      <td>PJ Harvey</td>\n      <td>Pop/Rock</td>\n      <td>1990</td>\n    </tr>\n    <tr>\n      <th>4</th>\n      <td>762</td>\n      <td>1</td>\n      <td>91438</td>\n      <td>The Gun Club</td>\n      <td>Pop/Rock</td>\n      <td>1980</td>\n      <td>335</td>\n      <td>PJ Harvey</td>\n      <td>Pop/Rock</td>\n      <td>1990</td>\n    </tr>\n  </tbody>\n</table>\n</div>"
     },
     "execution_count": 10,
     "metadata": {},
     "output_type": "execute_result"
    }
   ],
   "source": [
    "sorted_influence_data.to_csv(r'datanew/sorted_influence_data1_1.csv',index=False)\n",
    "sorted_influence_data.head()"
   ]
  },
  {
   "cell_type": "code",
   "execution_count": 12,
   "metadata": {
    "pycharm": {
     "name": "#%%\n"
    }
   },
   "outputs": [],
   "source": [
    "#sorted by influencer id\n",
    "newid_sorted_influence_data=sorted_influence_data.sort_values(by='influencer_id_new')\n",
    "newid_sorted_influence_data.to_csv(r'datanew/newid_sorted_influence_data1_2.csv',index=False)\n",
    "newid_sorted_influence_data.head()"
   ]
  },
  {
   "cell_type": "code",
   "execution_count": 60,
   "outputs": [],
   "source": [
    "old_to_new=pd.DataFrame([old2newdict])\n",
    "old_to_new.to_csv(r'datanew/old_to_new1_3.csv',index=False)"
   ],
   "metadata": {
    "collapsed": false,
    "pycharm": {
     "name": "#%%\n"
    }
   }
  },
  {
   "cell_type": "code",
   "execution_count": 13,
   "metadata": {},
   "outputs": [
    {
     "data": {
      "text/plain": "array([[0., 0., 0., ..., 0., 0., 0.],\n       [0., 0., 0., ..., 0., 0., 0.],\n       [0., 0., 0., ..., 0., 0., 0.],\n       ...,\n       [0., 0., 0., ..., 0., 0., 0.],\n       [0., 0., 0., ..., 0., 0., 0.],\n       [0., 0., 0., ..., 0., 0., 0.]])"
     },
     "execution_count": 13,
     "metadata": {},
     "output_type": "execute_result"
    }
   ],
   "source": [
    "#Adjacency matrix\n",
    "adj_matrix= np.zeros((len(old2newdict),len(old2newdict)))\n",
    "for index,row in sorted_influence_data.iterrows():\n",
    "    adj_matrix[row['influencer_id_new'],row['follower_id_new']]=1"
   ]
  },
  {
   "cell_type": "code",
   "execution_count": 62,
   "metadata": {},
   "outputs": [],
   "source": [
    "adj_matrix_df=pd.DataFrame(adj_matrix,columns=[i for i in range(np.size(adj_matrix,0))])\n",
    "adj_matrix_df.to_csv(r'datanew/adjacency_matrix1_5.csv',index=True)"
   ]
  },
  {
   "cell_type": "code",
   "execution_count": 14,
   "metadata": {},
   "outputs": [],
   "source": [
    "#Adjacency list\n",
    "adj_list=[]\n",
    "for i in range(len(old2newdict)):\n",
    "    adj_list.append([])\n",
    "for index,row in sorted_influence_data.iterrows():\n",
    "    adj_list[row['influencer_id_new']].append(row['follower_id_new'])"
   ]
  },
  {
   "cell_type": "code",
   "execution_count": 69,
   "metadata": {},
   "outputs": [
    {
     "data": {
      "text/plain": "      0       1      2      3       4       5       6       7       8    \\\n0     NaN     NaN    NaN    NaN     NaN     NaN     NaN     NaN     NaN   \n1    81.0   226.0  787.0  832.0  1147.0  1711.0  2532.0  2597.0  3389.0   \n2   763.0  2329.0    NaN    NaN     NaN     NaN     NaN     NaN     NaN   \n3     NaN     NaN    NaN    NaN     NaN     NaN     NaN     NaN     NaN   \n4  1365.0     NaN    NaN    NaN     NaN     NaN     NaN     NaN     NaN   \n\n      9    ...  605  606  607  608  609  610  611  612  613  614  \n0     NaN  ...  NaN  NaN  NaN  NaN  NaN  NaN  NaN  NaN  NaN  NaN  \n1  3747.0  ...  NaN  NaN  NaN  NaN  NaN  NaN  NaN  NaN  NaN  NaN  \n2     NaN  ...  NaN  NaN  NaN  NaN  NaN  NaN  NaN  NaN  NaN  NaN  \n3     NaN  ...  NaN  NaN  NaN  NaN  NaN  NaN  NaN  NaN  NaN  NaN  \n4     NaN  ...  NaN  NaN  NaN  NaN  NaN  NaN  NaN  NaN  NaN  NaN  \n\n[5 rows x 615 columns]",
      "text/html": "<div>\n<style scoped>\n    .dataframe tbody tr th:only-of-type {\n        vertical-align: middle;\n    }\n\n    .dataframe tbody tr th {\n        vertical-align: top;\n    }\n\n    .dataframe thead th {\n        text-align: right;\n    }\n</style>\n<table border=\"1\" class=\"dataframe\">\n  <thead>\n    <tr style=\"text-align: right;\">\n      <th></th>\n      <th>0</th>\n      <th>1</th>\n      <th>2</th>\n      <th>3</th>\n      <th>4</th>\n      <th>5</th>\n      <th>6</th>\n      <th>7</th>\n      <th>8</th>\n      <th>9</th>\n      <th>...</th>\n      <th>605</th>\n      <th>606</th>\n      <th>607</th>\n      <th>608</th>\n      <th>609</th>\n      <th>610</th>\n      <th>611</th>\n      <th>612</th>\n      <th>613</th>\n      <th>614</th>\n    </tr>\n  </thead>\n  <tbody>\n    <tr>\n      <th>0</th>\n      <td>NaN</td>\n      <td>NaN</td>\n      <td>NaN</td>\n      <td>NaN</td>\n      <td>NaN</td>\n      <td>NaN</td>\n      <td>NaN</td>\n      <td>NaN</td>\n      <td>NaN</td>\n      <td>NaN</td>\n      <td>...</td>\n      <td>NaN</td>\n      <td>NaN</td>\n      <td>NaN</td>\n      <td>NaN</td>\n      <td>NaN</td>\n      <td>NaN</td>\n      <td>NaN</td>\n      <td>NaN</td>\n      <td>NaN</td>\n      <td>NaN</td>\n    </tr>\n    <tr>\n      <th>1</th>\n      <td>81.0</td>\n      <td>226.0</td>\n      <td>787.0</td>\n      <td>832.0</td>\n      <td>1147.0</td>\n      <td>1711.0</td>\n      <td>2532.0</td>\n      <td>2597.0</td>\n      <td>3389.0</td>\n      <td>3747.0</td>\n      <td>...</td>\n      <td>NaN</td>\n      <td>NaN</td>\n      <td>NaN</td>\n      <td>NaN</td>\n      <td>NaN</td>\n      <td>NaN</td>\n      <td>NaN</td>\n      <td>NaN</td>\n      <td>NaN</td>\n      <td>NaN</td>\n    </tr>\n    <tr>\n      <th>2</th>\n      <td>763.0</td>\n      <td>2329.0</td>\n      <td>NaN</td>\n      <td>NaN</td>\n      <td>NaN</td>\n      <td>NaN</td>\n      <td>NaN</td>\n      <td>NaN</td>\n      <td>NaN</td>\n      <td>NaN</td>\n      <td>...</td>\n      <td>NaN</td>\n      <td>NaN</td>\n      <td>NaN</td>\n      <td>NaN</td>\n      <td>NaN</td>\n      <td>NaN</td>\n      <td>NaN</td>\n      <td>NaN</td>\n      <td>NaN</td>\n      <td>NaN</td>\n    </tr>\n    <tr>\n      <th>3</th>\n      <td>NaN</td>\n      <td>NaN</td>\n      <td>NaN</td>\n      <td>NaN</td>\n      <td>NaN</td>\n      <td>NaN</td>\n      <td>NaN</td>\n      <td>NaN</td>\n      <td>NaN</td>\n      <td>NaN</td>\n      <td>...</td>\n      <td>NaN</td>\n      <td>NaN</td>\n      <td>NaN</td>\n      <td>NaN</td>\n      <td>NaN</td>\n      <td>NaN</td>\n      <td>NaN</td>\n      <td>NaN</td>\n      <td>NaN</td>\n      <td>NaN</td>\n    </tr>\n    <tr>\n      <th>4</th>\n      <td>1365.0</td>\n      <td>NaN</td>\n      <td>NaN</td>\n      <td>NaN</td>\n      <td>NaN</td>\n      <td>NaN</td>\n      <td>NaN</td>\n      <td>NaN</td>\n      <td>NaN</td>\n      <td>NaN</td>\n      <td>...</td>\n      <td>NaN</td>\n      <td>NaN</td>\n      <td>NaN</td>\n      <td>NaN</td>\n      <td>NaN</td>\n      <td>NaN</td>\n      <td>NaN</td>\n      <td>NaN</td>\n      <td>NaN</td>\n      <td>NaN</td>\n    </tr>\n  </tbody>\n</table>\n<p>5 rows × 615 columns</p>\n</div>"
     },
     "execution_count": 69,
     "metadata": {},
     "output_type": "execute_result"
    }
   ],
   "source": [
    "adj_list_df=pd.DataFrame(adj_list,columns=None)\n",
    "adj_list_df.to_csv(r'datanew/adjacency_list1_6.csv',index=True,header=None,columns=None)\n",
    "adj_list_df.head()"
   ]
  },
  {
   "cell_type": "code",
   "execution_count": 49,
   "metadata": {},
   "outputs": [],
   "source": [
    "artist_influenct_list=[]\n",
    "#the new id\n",
    "for i in range(len(adj_list)):\n",
    "    artist_influenct_list.append([i])\n",
    "#number of influence people\n",
    "for i in range(len(adj_list)):\n",
    "    artist_influenct_list[i].append(len(adj_list[i]))\n",
    "#number of influence year\n",
    "    yearinfluence=set()\n",
    "    for j in range(len(adj_list[i])):\n",
    "        jyear=newid_sorted_influence_data.loc[newid_sorted_influence_data['follower_id_new']==adj_list[i][j],['follower_active_start']].iloc[0]\n",
    "        yearinfluence.add(int(jyear))\n",
    "    year=len(yearinfluence)\n",
    "    artist_influenct_list[i].append(year)\n"
   ]
  },
  {
   "cell_type": "code",
   "execution_count": 50,
   "outputs": [],
   "source": [
    "#number of influence genre\n",
    "for i in range(len(adj_list)):\n",
    "    genreinfluence=set()\n",
    "    for j in range(len(adj_list[i])):\n",
    "        #binsearch\n",
    "        jgenre=''\n",
    "        high=sorted_influence_data.shape[0]-1\n",
    "        low=0\n",
    "        while(high>=low):\n",
    "            middle=(high+low)//2\n",
    "            idxid=int(sorted_influence_data.iloc[[middle],[1]].values[0])\n",
    "            if idxid==adj_list[i][j]:\n",
    "                jgenre=str(sorted_influence_data.iloc[[middle],[8]].values[0])\n",
    "                break\n",
    "            elif idxid>adj_list[i][j]:\n",
    "                high=middle-1\n",
    "            else:\n",
    "                low=middle+1\n",
    "        if jgenre=='':\n",
    "            print(\"some artist genre not found\")\n",
    "        genreinfluence.add(jgenre)\n",
    "    genre=len(genreinfluence)\n",
    "    artist_influenct_list[i].append(genre)\n"
   ],
   "metadata": {
    "collapsed": false,
    "pycharm": {
     "name": "#%%\n"
    }
   }
  },
  {
   "cell_type": "code",
   "execution_count": 59,
   "outputs": [
    {
     "data": {
      "text/plain": "  artist_id  artist_newid  influence_people  influence_decade  influence_genre\n0        74             0                 0                 0                0\n1       335             1                22                 3                1\n2       441             2                 2                 1                1\n3       589             3                 0                 0                0\n4      1097             4                 1                 1                1",
      "text/html": "<div>\n<style scoped>\n    .dataframe tbody tr th:only-of-type {\n        vertical-align: middle;\n    }\n\n    .dataframe tbody tr th {\n        vertical-align: top;\n    }\n\n    .dataframe thead th {\n        text-align: right;\n    }\n</style>\n<table border=\"1\" class=\"dataframe\">\n  <thead>\n    <tr style=\"text-align: right;\">\n      <th></th>\n      <th>artist_id</th>\n      <th>artist_newid</th>\n      <th>influence_people</th>\n      <th>influence_decade</th>\n      <th>influence_genre</th>\n    </tr>\n  </thead>\n  <tbody>\n    <tr>\n      <th>0</th>\n      <td>74</td>\n      <td>0</td>\n      <td>0</td>\n      <td>0</td>\n      <td>0</td>\n    </tr>\n    <tr>\n      <th>1</th>\n      <td>335</td>\n      <td>1</td>\n      <td>22</td>\n      <td>3</td>\n      <td>1</td>\n    </tr>\n    <tr>\n      <th>2</th>\n      <td>441</td>\n      <td>2</td>\n      <td>2</td>\n      <td>1</td>\n      <td>1</td>\n    </tr>\n    <tr>\n      <th>3</th>\n      <td>589</td>\n      <td>3</td>\n      <td>0</td>\n      <td>0</td>\n      <td>0</td>\n    </tr>\n    <tr>\n      <th>4</th>\n      <td>1097</td>\n      <td>4</td>\n      <td>1</td>\n      <td>1</td>\n      <td>1</td>\n    </tr>\n  </tbody>\n</table>\n</div>"
     },
     "execution_count": 59,
     "metadata": {},
     "output_type": "execute_result"
    }
   ],
   "source": [
    "artist_influence=pd.DataFrame(artist_influenct_list,columns=['artist_newid','influence_people','influence_decade','influence_genre'])\n",
    "#insert a column for artist_id\n",
    "new2oldict={}\n",
    "for key,val in old2newdict.items():\n",
    "    new2oldict[val]=key\n",
    "artist_influence.insert(0,'artist_id','')\n",
    "for idx,row in artist_influence.iterrows():\n",
    "    artist_influence.iloc[idx,0]=new2oldict[row['artist_newid']]\n",
    "artist_influence.to_csv(r'datanew/artist_influence1_4.csv',index=False)\n",
    "artist_influence.head()\n"
   ],
   "metadata": {
    "collapsed": false,
    "pycharm": {
     "name": "#%%\n"
    }
   }
  },
  {
   "cell_type": "code",
   "execution_count": null,
   "outputs": [],
   "source": [],
   "metadata": {
    "collapsed": false,
    "pycharm": {
     "name": "#%%\n"
    }
   }
  },
  {
   "cell_type": "code",
   "execution_count": null,
   "outputs": [],
   "source": [],
   "metadata": {
    "collapsed": false,
    "pycharm": {
     "name": "#%%\n",
     "is_executing": true
    }
   }
  }
 ],
 "metadata": {
  "kernelspec": {
   "name": "machinelearning",
   "language": "python",
   "display_name": "machinelearning"
  },
  "language_info": {
   "codemirror_mode": {
    "name": "ipython",
    "version": 3
   },
   "file_extension": ".py",
   "mimetype": "text/x-python",
   "name": "python",
   "nbconvert_exporter": "python",
   "pygments_lexer": "ipython3",
   "version": "3.7.9"
  }
 },
 "nbformat": 4,
 "nbformat_minor": 1
}